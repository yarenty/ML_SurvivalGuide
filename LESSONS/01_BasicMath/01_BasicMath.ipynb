{
 "cells": [
  {
   "cell_type": "markdown",
   "metadata": {},
   "source": [
    "# Basic Math\n",
    "\n",
    "**Note** This is not Math Survival Guide ;-) so here I present ony basic information / definitions that you should know to properly comunicate / understand ML. \n",
    "\n",
    "For more information about math check [Matrix Cookbook](http://www2.imm.dtu.dk/pubdb/views/edoc_download.php/3274/pdf/imm3274.pdf)\n",
    "\n",
    "\n",
    "## Linear algebra\n",
    "\n",
    "### Scalars, Vectors, Matrixes, Tensors\n",
    "* Scalars: A scalar is just a single number\n",
    "* Vectors: A vector is an array of numbers. The numbers are arranged in order. We can identify each individual number by its index in that ordering.  \n",
    "` X = [x1,x2,..xn] `\n",
    "\n",
    "* Matrices: A matrix is a 2-D array of numbers, so each element is identiﬁed by two indices. If a real-valued matrix `A` has a height of `m` and a width of `n`, then we say that `A ∈ Rm×n`. \n",
    "![Scalar Vector Matrix](../images/scalar-vector-matrix.svg)\n",
    "\n",
    "* Tensors: In some cases we will need an array with more than two axes.In the general case, an array of numbers arranged on a regular grid with avariable number of axes is known as a tensor. We identify the element of `A` at coordinates `(i, j, k)` by writing `A[i,j,k]`\n",
    "![Tensor](../images/ten3.gif)\n"
   ]
  },
  {
   "cell_type": "code",
   "execution_count": null,
   "metadata": {},
   "outputs": [],
   "source": [
    "import numpy as np"
   ]
  },
  {
   "cell_type": "code",
   "execution_count": null,
   "metadata": {},
   "outputs": [],
   "source": [
    "# Create a length-10 integer array filled with zeros\n",
    "np.zeros(10, dtype=int)"
   ]
  },
  {
   "cell_type": "code",
   "execution_count": null,
   "metadata": {},
   "outputs": [],
   "source": [
    "# Create a 3x5 floating-point array filled with ones\n",
    "np.ones((3, 5), dtype=float)"
   ]
  },
  {
   "cell_type": "code",
   "execution_count": null,
   "metadata": {},
   "outputs": [],
   "source": [
    "# Create a 3x5 array filled with 3.14\n",
    "np.full((3, 5), 3.14)"
   ]
  },
  {
   "cell_type": "code",
   "execution_count": null,
   "metadata": {},
   "outputs": [],
   "source": [
    "# Create an array filled with a linear sequence\n",
    "# Starting at 0, ending at 20, stepping by 2\n",
    "# (this is similar to the built-in range() function)\n",
    "np.arange(0, 20, 2)"
   ]
  },
  {
   "cell_type": "code",
   "execution_count": null,
   "metadata": {},
   "outputs": [],
   "source": [
    "# Create an array of five values evenly spaced between 0 and 1\n",
    "np.linspace(0, 1, 5)"
   ]
  },
  {
   "cell_type": "code",
   "execution_count": null,
   "metadata": {},
   "outputs": [],
   "source": [
    "# Create a 3x3 array of normally distributed random values\n",
    "# with mean 0 and standard deviation 1\n",
    "np.random.normal(0, 1, (3, 3))"
   ]
  },
  {
   "cell_type": "code",
   "execution_count": null,
   "metadata": {},
   "outputs": [],
   "source": [
    "# Create a 3x3 array of random integers in the interval [0, 10)\n",
    "np.random.randint(0, 10, (3, 3))"
   ]
  },
  {
   "cell_type": "code",
   "execution_count": null,
   "metadata": {},
   "outputs": [],
   "source": [
    "# Create a 3x3 identity matrix\n",
    "np.eye(3)"
   ]
  },
  {
   "cell_type": "code",
   "execution_count": null,
   "metadata": {},
   "outputs": [],
   "source": [
    "# Create an uninitialized array of three integers\n",
    "# The values will be whatever happens to already exist at that memory location\n",
    "np.empty(3)"
   ]
  },
  {
   "cell_type": "code",
   "execution_count": null,
   "metadata": {},
   "outputs": [],
   "source": [
    "np.random.seed(0)  # seed for reproducibility\n",
    "\n",
    "x1 = np.random.randint(10, size=6)  # One-dimensional array\n",
    "x2 = np.random.randint(10, size=(3, 4))  # Two-dimensional array\n",
    "x3 = np.random.randint(10, size=(3, 4, 5))  # Three-dimensional array\n",
    "x3"
   ]
  },
  {
   "cell_type": "markdown",
   "metadata": {},
   "source": [
    "Each array has attributes ndim (the number of dimensions), shape (the size of each dimension), and size (the total size of the array):"
   ]
  },
  {
   "cell_type": "code",
   "execution_count": null,
   "metadata": {},
   "outputs": [],
   "source": [
    "print(\"x3 ndim: \", x3.ndim)\n",
    "print(\"x3 shape:\", x3.shape)\n",
    "print(\"x3 size: \", x3.size)"
   ]
  },
  {
   "cell_type": "code",
   "execution_count": null,
   "metadata": {},
   "outputs": [],
   "source": [
    "print(\"dtype:\", x3.dtype)"
   ]
  },
  {
   "cell_type": "markdown",
   "metadata": {},
   "source": [
    "## Accessing array rows and columns\n",
    "\n",
    "One commonly needed routine is accessing of single rows or columns of an array. This can be done by combining indexing and slicing, using an empty slice marked by a single colon (:):"
   ]
  },
  {
   "cell_type": "code",
   "execution_count": null,
   "metadata": {},
   "outputs": [],
   "source": [
    "print(x2[:, 0])  # first column of x2"
   ]
  },
  {
   "cell_type": "code",
   "execution_count": null,
   "metadata": {},
   "outputs": [],
   "source": [
    "print(x2[0, :])  # first row of x2"
   ]
  },
  {
   "cell_type": "markdown",
   "metadata": {},
   "source": [
    "### Matrix transpose\n",
    "One important operation on matrices is the transpose. The transpose of a matrix is the mirror image of the matrix across a diagonal line, called themaindiagonal, running down and to the right, starting from its upper left corner. Seeﬁgure 2.1 for a graphical depiction of this operation\n",
    "\n",
    "![](../images/matrix_trans.gif)\n",
    "\n",
    "**Challenge**  \n",
    "Create array with values\n",
    "```\n",
    "[[ 1., 0., 0.],\n",
    " [ 0., 1., 2.]]\n",
    "```\n",
    "make `out` array to be transpose of `arr`\n"
   ]
  },
  {
   "cell_type": "code",
   "execution_count": null,
   "metadata": {},
   "outputs": [],
   "source": [
    "arr = np.array(None)"
   ]
  },
  {
   "cell_type": "code",
   "execution_count": null,
   "metadata": {},
   "outputs": [],
   "source": [
    "out= np.zeros((3,2))"
   ]
  },
  {
   "cell_type": "code",
   "execution_count": null,
   "metadata": {},
   "outputs": [],
   "source": [
    "out[0][0] = arr[0][0]\n",
    "out[0][1] = arr[1][0]\n",
    "out[1][0] = None\n",
    "out[1][1] = None\n",
    "out[2][0] = None\n",
    "out[2][1] = None\n",
    "\n",
    "out"
   ]
  },
  {
   "cell_type": "markdown",
   "metadata": {},
   "source": [
    "Output should be:\n",
    "```\n",
    "[[1., 0.],\n",
    " [0., 1.],\n",
    " [0., 2.]]\n",
    " ```"
   ]
  },
  {
   "cell_type": "markdown",
   "metadata": {},
   "source": [
    "### Matrix multiplications\n",
    "\n",
    "Next extremely important operation is matrix multiplication.\n",
    "\n",
    "![General rule](../images/matrix_mul1.png)\n",
    "Step one: multiply each individual values first row of first matrix times first column second matrix and sum them\n",
    "![Step one: multiply each individual values first row of first matrix times first column second matrix and sum them](../images/matrix_mul_2a.svg)\n",
    "Step two: multiply each individual values first row of first matrix times second column second matrix and sum them\n",
    "![Step two: multiply each individual values row of first matrix times column second matrix and sum them](../images/matrix_mul_2b.gif)\n",
    "...  and so on!\n",
    "\n",
    "\n",
    "The matrix productof matrices `A` and `B` is a third matrix `C`. In order for this product to be deﬁned, `A` must have the same number of columns as `B` has rows. If `A` is of shape `m × n` and `B` is of shape `n × p`, then `C` is of shape `m × p`. \n",
    "\n",
    "**Note**: This  is very important feature when building Deep Learning Neural Networks - especially when we will do convolutional neural networks - most time spend is to figure out shapes of each layers in NN.\n",
    "\n",
    "\n",
    "\n",
    "\n",
    "\n",
    "**Challenge**   \n",
    "\n",
    "Do matrix multiplication on out and arr.\n",
    "\n",
    "```\n",
    "np.dot( .., ..)\n",
    "```\n",
    "\n",
    "You can multiply `out * arr` and `arr * out` - do you know why output is so different? \n",
    "\n",
    "\n"
   ]
  },
  {
   "cell_type": "code",
   "execution_count": null,
   "metadata": {},
   "outputs": [],
   "source": [
    "# out * arr\n",
    "\n"
   ]
  },
  {
   "cell_type": "code",
   "execution_count": null,
   "metadata": {},
   "outputs": [],
   "source": [
    "# arr * out\n",
    "\n"
   ]
  },
  {
   "cell_type": "code",
   "execution_count": null,
   "metadata": {},
   "outputs": [],
   "source": [
    "# arrays in python has build in lots of functions - transpose is one of build funciton\n",
    "np.dot(arr.T, arr)"
   ]
  },
  {
   "cell_type": "markdown",
   "metadata": {},
   "source": [
    "### More linear algebra\n",
    "\n",
    "There are more, ie: identity, inverse, span, linear dependence, norms, diagonal,  symmetric matrixes, eigenvectors,  eigendecompostion, determinants\n",
    "\n",
    "Example: symmatric matric is A == A.T\n",
    "\n",
    "\n",
    "\n",
    "**Note** One simple machine learning algorithm, principal components analysis *(PCA)*,can be derived using only knowledge of basic linear algebra\n",
    "\n",
    "More details [Matrix Cookbook](http://www2.imm.dtu.dk/pubdb/views/edoc_download.php/3274/pdf/imm3274.pdf)\n",
    "\n"
   ]
  }
 ],
 "metadata": {
  "kernelspec": {
   "display_name": "Python 3",
   "language": "python",
   "name": "python3"
  },
  "language_info": {
   "codemirror_mode": {
    "name": "ipython",
    "version": 2
   },
   "file_extension": ".py",
   "mimetype": "text/x-python",
   "name": "python",
   "nbconvert_exporter": "python",
   "pygments_lexer": "ipython2",
   "version": "2.7.14"
  }
 },
 "nbformat": 4,
 "nbformat_minor": 2
}
