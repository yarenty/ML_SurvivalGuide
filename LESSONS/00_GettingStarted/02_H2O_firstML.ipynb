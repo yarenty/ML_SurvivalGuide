{
 "cells": [
  {
   "cell_type": "code",
   "execution_count": null,
   "metadata": {},
   "outputs": [],
   "source": [
    "import h2o"
   ]
  },
  {
   "cell_type": "code",
   "execution_count": null,
   "metadata": {},
   "outputs": [],
   "source": [
    "h2o.init()"
   ]
  },
  {
   "cell_type": "markdown",
   "metadata": {},
   "source": [
    "Expected output, should be similar to this:  \n",
    "\\[..\\]  \n",
    "Connecting to H2O server at http://127.0.0.1:54321... successful.    \n",
    "H2O cluster uptime:\t02 secs  \n",
    "H2O cluster timezone:\tEurope/Dublin  \n",
    "H2O data parsing timezone:\tUTC  \n",
    "H2O cluster version:\t3.18.0.4  \n",
    "H2O cluster version age:\t9 days  \n",
    "H2O cluster name:\tH2O_from_python_yarenty_4okkgh  \n",
    "H2O cluster total nodes:\t1  \n",
    "H2O cluster free memory:\t3.556 Gb  \n",
    "H2O cluster total cores:\t8  \n",
    "H2O cluster allowed cores:\t8  \n",
    "H2O cluster status:\taccepting new members, healthy  \n",
    "H2O connection url:\thttp://127.0.0.1:54321  \n",
    "H2O connection proxy:\tNone  \n",
    "H2O internal security:\tFalse  \n",
    "H2O API Extensions:\tXGBoost, Algos, AutoML, Core V3, Core V4  \n",
    "Python version:\t3.6.4 final  \n"
   ]
  },
  {
   "cell_type": "markdown",
   "metadata": {},
   "source": [
    "**Challenge:**\n",
    "1. Open H2O flow on link exposed above (something like:http://127.0.0.1:54321).  \n",
    "2. Click on importFiles\n",
    "3. Put \"./../DATA\" into serach field\n",
    "4. Select \"houses.csv\"\n",
    "5. Import file\n",
    "6. Click on \"Parse these files\"\n",
    "7. View data.\n",
    "8. Split data 0.8/0.2\n",
    "8. Choose \"Build model\" over data\n",
    "9. Algorithm: \"Generalized Linear Model\", use 0.8 as train frame, 0.2 as validation frame, response column: \"Sale price\".\n",
    "10. Click \"Build Model\"\n",
    "\n",
    "Congratulaitons! You just build your first ML model!\n"
   ]
  }
 ],
 "metadata": {
  "kernelspec": {
   "display_name": "Python 3",
   "language": "python",
   "name": "python3"
  },
  "language_info": {
   "codemirror_mode": {
    "name": "ipython",
    "version": 3
   },
   "file_extension": ".py",
   "mimetype": "text/x-python",
   "name": "python",
   "nbconvert_exporter": "python",
   "pygments_lexer": "ipython3",
   "version": "3.6.4"
  }
 },
 "nbformat": 4,
 "nbformat_minor": 2
}
