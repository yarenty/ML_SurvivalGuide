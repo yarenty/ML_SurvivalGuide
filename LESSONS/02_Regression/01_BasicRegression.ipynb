{
 "cells": [
  {
   "cell_type": "markdown",
   "metadata": {},
   "source": [
    "# Basic Regression\n",
    "\n",
    "Here we will get few simple functions that are used in ML *every time*"
   ]
  },
  {
   "cell_type": "code",
   "execution_count": null,
   "metadata": {},
   "outputs": [],
   "source": [
    "import numpy as np\n",
    "#Our input data ;-)\n",
    "x = np.array([1.,2.,3,4,5,6,7,8,9])\n",
    "y = np.array([1,3,2,3,5,4,6,4,7])"
   ]
  },
  {
   "cell_type": "markdown",
   "metadata": {},
   "source": [
    "## 1. Calculate Mean and Variance\n",
    "\n",
    "The first step is to estimate the mean and the variance of data variables.\n",
    "\n",
    "```\n",
    "mean(x) = sum(x) / count(x)\n",
    "```\n",
    "Below is a function named mean() that implements this behavior for a list of numbers."
   ]
  },
  {
   "cell_type": "code",
   "execution_count": null,
   "metadata": {},
   "outputs": [],
   "source": [
    "# Calculate the mean value of a list of numbers\n",
    "def mean(values):\n",
    "    return sum(values) / float(len(values))"
   ]
  },
  {
   "cell_type": "code",
   "execution_count": null,
   "metadata": {},
   "outputs": [],
   "source": [
    "mean(x)"
   ]
  },
  {
   "cell_type": "code",
   "execution_count": null,
   "metadata": {},
   "outputs": [],
   "source": [
    "mean(y)"
   ]
  },
  {
   "cell_type": "markdown",
   "metadata": {},
   "source": [
    "The variance is the sum squared difference for each value from the mean value.\n",
    "\n",
    "Variance for a list of numbers can be calculated as:\n",
    "```\n",
    "variance = sum( (x - mean(x))^2 )\n",
    "```\n"
   ]
  },
  {
   "cell_type": "code",
   "execution_count": null,
   "metadata": {},
   "outputs": [],
   "source": [
    "def variance(val):\n",
    "    m = mean(val)\n",
    "    var = .0\n",
    "    for x in val:\n",
    "        var = var + (x-m)**2\n",
    "    return var"
   ]
  },
  {
   "cell_type": "code",
   "execution_count": null,
   "metadata": {},
   "outputs": [],
   "source": [
    "variance(x)"
   ]
  },
  {
   "cell_type": "markdown",
   "metadata": {},
   "source": [
    "## 2. Calculate Covariance\n",
    "\n",
    "The covariance of two groups of numbers describes how those numbers change together.\n",
    "\n",
    "Covariance is a generalization of correlation. Correlation describes the relationship between two groups of numbers, whereas covariance can describe the relationship between two or more groups of numbers.\n",
    "\n",
    "Additionally, covariance can be normalized to produce a correlation value.\n",
    "\n",
    "Nevertheless, we can calculate the covariance between two variables as follows:\n",
    "\n",
    "```\n",
    "covariance = sum((x(i) - mean(x)) * (y(i) - mean(y)))\n",
    "```\n",
    "\n",
    "Below is a function named covariance() that implements this statistic. \n"
   ]
  },
  {
   "cell_type": "code",
   "execution_count": null,
   "metadata": {},
   "outputs": [],
   "source": [
    "# Calculate covariance between x and y\n",
    "def covariance(x, y):\n",
    "    mean_x = mean(x)\n",
    "    mean_y = mean(y)\n",
    "    covar = 0.0\n",
    "    for i in range(len(x)):\n",
    "        covar += (x[i] - mean_x) * (y[i] - mean_y)\n",
    "    return covar\n"
   ]
  },
  {
   "cell_type": "code",
   "execution_count": null,
   "metadata": {},
   "outputs": [],
   "source": [
    "covar = covariance(x, y)\n",
    "print('Covariance: %.3f' % (covar))\n"
   ]
  },
  {
   "cell_type": "markdown",
   "metadata": {},
   "source": [
    "## 3. Estimate Coefficients\n",
    "We must estimate the values for two coefficients in simple linear regression.\n",
    "\n",
    "The first is W which can be estimated as:\n",
    "\n",
    "```\n",
    "W = sum((x(i) - mean(x)) * (y(i) - mean(y))) / sum( (x(i) - mean(x))^2 )\n",
    "```\n",
    "We have learned some things above and can simplify this arithmetic to:\n",
    "\n",
    "```\n",
    "W = covariance(x, y) / variance(x)\n",
    "```\n",
    "We already have functions to calculate covariance() and variance().\n",
    "\n",
    "Next, we need to estimate a value for b, also called the intercept as it controls the starting point of the line where it intersects the y-axis.\n",
    "\n",
    "```\n",
    "b = mean(y) - W * mean(x)\n",
    "```\n",
    "Again, we know how to estimate W and we have a function to estimate mean().\n",
    "\n",
    "We can put all of this together into a function named coefficients() that takes the dataset as an argument and returns the coefficients."
   ]
  },
  {
   "cell_type": "code",
   "execution_count": null,
   "metadata": {},
   "outputs": [],
   "source": [
    "# Calculate coefficients\n",
    "def coefficients(x,y):\n",
    "    x_mean, y_mean = mean(x), mean(y)\n",
    "    W = covariance(x, y) / variance(x)\n",
    "    b = y_mean - W * x_mean\n",
    "    return [W, b]"
   ]
  },
  {
   "cell_type": "code",
   "execution_count": null,
   "metadata": {},
   "outputs": [],
   "source": [
    "W, b = coefficients(x,y)\n",
    "print('Coefficients: W=%.3f, b=%.3f' % (W,b))"
   ]
  },
  {
   "cell_type": "markdown",
   "metadata": {},
   "source": [
    "Now we can check if everything is working as expected!\n",
    "\n",
    "Lets build out prediction function."
   ]
  },
  {
   "cell_type": "code",
   "execution_count": null,
   "metadata": {},
   "outputs": [],
   "source": [
    "def predict(x,W,b):\n",
    "    p = list()\n",
    "    for i in x:\n",
    "        y = W*i + b\n",
    "        p.append(y)\n",
    "    return p"
   ]
  },
  {
   "cell_type": "code",
   "execution_count": null,
   "metadata": {},
   "outputs": [],
   "source": [
    "y_ = predict(x,W,b)"
   ]
  },
  {
   "cell_type": "markdown",
   "metadata": {},
   "source": [
    "Lets display our output data!"
   ]
  },
  {
   "cell_type": "code",
   "execution_count": null,
   "metadata": {},
   "outputs": [],
   "source": [
    "%matplotlib inline\n",
    "import matplotlib.pyplot as plt\n",
    "plt.scatter(x, y , color='#2F08EC', marker=\"s\")\n",
    "plt.scatter(x, y_ , color='#FF082C')\n",
    "plt.plot(x, y_ , color='#FF0000')"
   ]
  },
  {
   "cell_type": "markdown",
   "metadata": {},
   "source": [
    "We just build linear regression!\n",
    "\n",
    "Lets make it more \"offcial\".\n",
    "\n",
    "We will also add in a function to manage the evaluation of the predictions called evaluate_algorithm() and another function to estimate the Root Mean Squared Error of the predictions called rmse_metric().\n",
    "\n"
   ]
  },
  {
   "cell_type": "code",
   "execution_count": null,
   "metadata": {},
   "outputs": [],
   "source": [
    "from math import sqrt\n",
    "# Calculate root mean squared error\n",
    "def rmse_metric(actual, predicted):\n",
    "    sum_error = 0.0\n",
    "    for i in range(len(actual)):\n",
    "        prediction_error = predicted[i] - actual[i]\n",
    "        sum_error += (prediction_error ** 2)\n",
    "    mean_error = sum_error / float(len(actual))\n",
    "    return sqrt(mean_error)\n",
    " "
   ]
  },
  {
   "cell_type": "code",
   "execution_count": null,
   "metadata": {},
   "outputs": [],
   "source": [
    "# Evaluate regression algorithm on training dataset\n",
    "def evaluate_algorithm(x, y, algorithm):\n",
    "    predicted = algorithm(x, y)\n",
    "    print(predicted)\n",
    "    rmse = rmse_metric(y, predicted)\n",
    "    return rmse,predicted\n",
    " "
   ]
  },
  {
   "cell_type": "code",
   "execution_count": null,
   "metadata": {},
   "outputs": [],
   "source": [
    "# Simple linear regression algorithm\n",
    "def simple_linear_regression(x,y):\n",
    "    predictions = list()\n",
    "    W, b = coefficients(x,y)\n",
    "    for row in x:\n",
    "        yhat = b + W * row\n",
    "        predictions.append(yhat)\n",
    "    return predictions"
   ]
  },
  {
   "cell_type": "code",
   "execution_count": null,
   "metadata": {},
   "outputs": [],
   "source": [
    "rmse,predictions = evaluate_algorithm(x, y, simple_linear_regression)\n",
    "print('RMSE: %.3f' % (rmse))"
   ]
  },
  {
   "cell_type": "code",
   "execution_count": null,
   "metadata": {},
   "outputs": [],
   "source": [
    "y"
   ]
  },
  {
   "cell_type": "code",
   "execution_count": null,
   "metadata": {},
   "outputs": [],
   "source": [
    "predictions"
   ]
  },
  {
   "cell_type": "markdown",
   "metadata": {},
   "source": [
    "## Use scikit library\n",
    "\n",
    "We can do the same using scikit-learn!\n",
    "\n",
    "One trick here - scikit needs x to be 2D input - so we expand our x using numpy.newaxis"
   ]
  },
  {
   "cell_type": "code",
   "execution_count": null,
   "metadata": {},
   "outputs": [],
   "source": [
    "\n",
    "from sklearn.linear_model import LinearRegression\n",
    "model = LinearRegression(fit_intercept=True)\n",
    "\n",
    "model.fit(x[:, np.newaxis], y)\n",
    "\n",
    "xfit = np.linspace(0, 10, 1000)\n",
    "yfit = model.predict(xfit[:, np.newaxis])\n",
    "\n",
    "plt.scatter(x, y)\n",
    "plt.plot(xfit, yfit, color='#FF0000');"
   ]
  },
  {
   "cell_type": "code",
   "execution_count": null,
   "metadata": {},
   "outputs": [],
   "source": [
    "model"
   ]
  },
  {
   "cell_type": "code",
   "execution_count": null,
   "metadata": {},
   "outputs": [],
   "source": [
    "print(model.intercept_)\n",
    "print(model.coef_)\n",
    "\n",
    "print('Coefficients: W=%.3f, b=%.3f' % (model.coef_[0],model.intercept_))"
   ]
  }
 ],
 "metadata": {
  "kernelspec": {
   "display_name": "Python 3",
   "language": "python",
   "name": "python3"
  },
  "language_info": {
   "codemirror_mode": {
    "name": "ipython",
    "version": 2
   },
   "file_extension": ".py",
   "mimetype": "text/x-python",
   "name": "python",
   "nbconvert_exporter": "python",
   "pygments_lexer": "ipython2",
   "version": "2.7.14"
  }
 },
 "nbformat": 4,
 "nbformat_minor": 2
}
